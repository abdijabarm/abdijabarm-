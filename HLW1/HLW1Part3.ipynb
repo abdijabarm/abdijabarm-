{
 "cells": [
  {
   "cell_type": "code",
   "execution_count": 9,
   "source": [
    "#task 1 \r\n",
    "num1=input('enter number 1 ')\r\n",
    "num2=input('enter number 2 ')\r\n",
    "num3=input('enter number 3 ')\r\n",
    "num4=input('enter number 4 ')\r\n",
    "new_file=open('numberfile','w')\r\n",
    "new_file.write(num1)\r\n",
    "new_file.write(num2)\r\n",
    "new_file.write(num3)\r\n",
    "new_file.write(num4)\r\n",
    "new_file.close()\r\n"
   ],
   "outputs": [],
   "metadata": {}
  },
  {
   "cell_type": "code",
   "execution_count": 32,
   "source": [
    "#task 2 + extension\r\n",
    "\r\n",
    "def percentage_to_grade(a):\r\n",
    "    if a >=90:\r\n",
    "        print('your grade is A* well done!')\r\n",
    "        grade='A*'\r\n",
    "    elif a >80 and a <90:\r\n",
    "        print('your grade is a')\r\n",
    "        grade='a'\r\n",
    "    elif a >60 and a<=80:\r\n",
    "        print('your grade is b')\r\n",
    "        grade='b'\r\n",
    "    elif a >40 and a <=60:\r\n",
    "        print('your grade is c')\r\n",
    "        grade='c'\r\n",
    "    elif a<=40:\r\n",
    "        print('your grade is d you have failed the test')\r\n",
    "        grade='d'\r\n",
    "percentage_to_grade(40)\r\n",
    "target_grade=input('what is your target grade')\r\n",
    "if target_grade==grade:\r\n",
    "    print('you have met your target grade')\r\n",
    "else:\r\n",
    "    print('you have not met your target grade')\r\n",
    "\r\n"
   ],
   "outputs": [
    {
     "output_type": "stream",
     "name": "stdout",
     "text": [
      "your grade is d you have failed the test\n",
      "you have not met your target grade\n"
     ]
    }
   ],
   "metadata": {}
  },
  {
   "cell_type": "code",
   "execution_count": 25,
   "source": [
    "#task 3"
   ],
   "outputs": [
    {
     "output_type": "stream",
     "name": "stdout",
     "text": [
      "your grade is A* well done!\n"
     ]
    }
   ],
   "metadata": {}
  },
  {
   "cell_type": "code",
   "execution_count": null,
   "source": [
    "7"
   ],
   "outputs": [],
   "metadata": {}
  }
 ],
 "metadata": {
  "orig_nbformat": 4,
  "language_info": {
   "name": "python",
   "version": "3.9.7",
   "mimetype": "text/x-python",
   "codemirror_mode": {
    "name": "ipython",
    "version": 3
   },
   "pygments_lexer": "ipython3",
   "nbconvert_exporter": "python",
   "file_extension": ".py"
  },
  "kernelspec": {
   "name": "python3",
   "display_name": "Python 3.9.7 64-bit"
  },
  "interpreter": {
   "hash": "a3949659082f76c3dce9af69e66ef5cf512c1e4dc52678c6ac146f322361f8d5"
  }
 },
 "nbformat": 4,
 "nbformat_minor": 2
}