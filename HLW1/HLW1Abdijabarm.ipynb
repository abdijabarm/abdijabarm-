{
 "cells": [
  {
   "cell_type": "code",
   "execution_count": 9,
   "source": [
    "#task 1\r\n",
    "import random\r\n",
    "magic_num= random.randint(1,11) \r\n",
    "user_input=int(input(\"guess the magic number from 1-10 \"))\r\n",
    "if magic_num==user_input:\r\n",
    "    print(\"great you've guessed the number correct\")\r\n",
    "else: \r\n",
    "    print(\"wrong number\")"
   ],
   "outputs": [
    {
     "output_type": "stream",
     "name": "stdout",
     "text": [
      "wrong number\n"
     ]
    }
   ],
   "metadata": {}
  },
  {
   "cell_type": "code",
   "execution_count": 15,
   "source": [
    "#task 2\r\n",
    "user_input=int(input(\"pick a number from 1 to 100 to hear a joke\"))\r\n",
    "if user_input <=33:\r\n",
    "    print(\"joke 1\")\r\n",
    "elif user_input >33 and user_input <=66:\r\n",
    "    print(\"joke 2\")\r\n",
    "else: \r\n",
    "    print(\"joke 3\")\r\n",
    "\r\n",
    "\r\n"
   ],
   "outputs": [
    {
     "output_type": "stream",
     "name": "stdout",
     "text": [
      "joke 2\n"
     ]
    }
   ],
   "metadata": {}
  },
  {
   "cell_type": "code",
   "execution_count": 31,
   "source": [
    "#task 3 \r\n",
    "main_meal= str(input(\"what is your favourite main meal\"))\r\n",
    "dessert= str(input(\"what dessert do you like\"))\r\n",
    "drink= str(input(\"name your favourite drink\"))\r\n",
    "\r\n",
    "print(str(\"your favourite meal is \"+ main_meal + \" with \"+ dessert +\" as your dessert and \" + drink + \"as your drink\"))\r\n"
   ],
   "outputs": [
    {
     "output_type": "stream",
     "name": "stdout",
     "text": [
      "your favourite meal is lasanga  with cherry waffle as your dessert and coke as your drink\n"
     ]
    }
   ],
   "metadata": {}
  },
  {
   "cell_type": "code",
   "execution_count": 44,
   "source": [
    "#task 4 \r\n",
    "motorbike= 2000 \r\n",
    "\r\n",
    "while motorbike > 1000:\r\n",
    "    motorbike = motorbike*0.9\r\n",
    "    print('the price of the motorbike is {}'.format(motorbike))\r\n",
    "\r\n"
   ],
   "outputs": [
    {
     "output_type": "stream",
     "name": "stdout",
     "text": [
      "the price of the motorbike is 1800.0\n",
      "the price of the motorbike is 1620.0\n",
      "the price of the motorbike is 1458.0\n",
      "the price of the motorbike is 1312.2\n",
      "the price of the motorbike is 1180.98\n",
      "the price of the motorbike is 1062.882\n",
      "the price of the motorbike is 956.5938000000001\n"
     ]
    }
   ],
   "metadata": {}
  },
  {
   "cell_type": "code",
   "execution_count": 55,
   "source": [
    "#task 5 \r\n",
    "x=int(input(\"choose your first number \"))\r\n",
    "y=int(input(\"choose your second number \"))\r\n",
    "print(\"you have chosen your numbers enter a to add, b to subtract, c to devide, d to mutiply and e to square(to the power of)\")\r\n",
    "operator= str(input(\"choose an operator from a - e \"))\r\n",
    "if operator == \"a\":\r\n",
    "    print(\" x + y = {}\".format(x+y))\r\n",
    "elif operator == \"b\":\r\n",
    "    print(\"x - y = {}\".format(x-y))\r\n",
    "elif operator == \"c\":\r\n",
    "    print(\"x / y = {}\".format(x/y))\r\n",
    "elif operator == \"d\":\r\n",
    "    print(\"x * y = {}\".format(x*y))\r\n",
    "else:\r\n",
    "    print(\"x to the power of  y = {}\".format(x**y))\r\n"
   ],
   "outputs": [
    {
     "output_type": "stream",
     "name": "stdout",
     "text": [
      "you have chosen your numbers enter a to add, b to subtract, c to devide, d to mutiply and e to square(to the power of)\n",
      "x to the power of  y = 1000\n"
     ]
    }
   ],
   "metadata": {}
  }
 ],
 "metadata": {
  "orig_nbformat": 4,
  "language_info": {
   "name": "python",
   "version": "3.9.7",
   "mimetype": "text/x-python",
   "codemirror_mode": {
    "name": "ipython",
    "version": 3
   },
   "pygments_lexer": "ipython3",
   "nbconvert_exporter": "python",
   "file_extension": ".py"
  },
  "kernelspec": {
   "name": "python3",
   "display_name": "Python 3.9.7 64-bit"
  },
  "interpreter": {
   "hash": "a3949659082f76c3dce9af69e66ef5cf512c1e4dc52678c6ac146f322361f8d5"
  }
 },
 "nbformat": 4,
 "nbformat_minor": 2
}