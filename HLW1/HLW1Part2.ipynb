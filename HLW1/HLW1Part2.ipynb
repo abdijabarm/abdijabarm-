{
 "cells": [
  {
   "cell_type": "code",
   "execution_count": 35,
   "source": [
    "#task 1\r\n",
    "#flowchart to code \r\n",
    "import random \r\n",
    "\r\n",
    "winning_team=random.randint(0,2)\r\n",
    "my_team= input(\" choose team a or b\")\r\n",
    "if my_team=='a':\r\n",
    "    my_team=0\r\n",
    "    if my_team==winning_team:\r\n",
    "        print('your team won, you win money')\r\n",
    "    else:\r\n",
    "        print('you lose money')\r\n",
    "elif my_team=='b':\r\n",
    "    my_team=1 \r\n",
    "    if my_team==winning_team:\r\n",
    "        print('your team won, you win money')\r\n",
    "    else:\r\n",
    "        print('you lose money')\r\n"
   ],
   "outputs": [
    {
     "output_type": "stream",
     "name": "stdout",
     "text": [
      "you lose money\n"
     ]
    }
   ],
   "metadata": {}
  },
  {
   "cell_type": "code",
   "execution_count": 30,
   "source": [
    "#task 2 \r\n",
    "def motorbike(a,b):\r\n",
    "    percentage_decline=motorbike(2000,10)\r\n",
    "    while a>1000: \r\n",
    "        a = a*(1-b/100)\r\n",
    "    print('the price of the motorbike is {}'.format(a))\r\n",
    "percentage_decline\r\n",
    "\r\n"
   ],
   "outputs": [
    {
     "output_type": "execute_result",
     "data": {
      "text/plain": [
       "'the price of the motorbike is 1800.0'"
      ]
     },
     "metadata": {},
     "execution_count": 30
    }
   ],
   "metadata": {}
  },
  {
   "cell_type": "code",
   "execution_count": 32,
   "source": [
    "#task 3 \r\n",
    "def add(num1,num2):\r\n",
    "    print(num1+num2)\r\n",
    "def subtract(num1,num2):\r\n",
    "    print(num1,num2)\r\n",
    "def divide(num1,num2):\r\n",
    "    print(num1/num2)\r\n",
    "def multiply(num1,num2):\r\n",
    "    print(num1*num2)\r\n",
    "def square(num1,num2):\r\n",
    "    print(num1**num2)"
   ],
   "outputs": [],
   "metadata": {}
  },
  {
   "cell_type": "code",
   "execution_count": null,
   "source": [],
   "outputs": [],
   "metadata": {}
  }
 ],
 "metadata": {
  "orig_nbformat": 4,
  "language_info": {
   "name": "python",
   "version": "3.9.7",
   "mimetype": "text/x-python",
   "codemirror_mode": {
    "name": "ipython",
    "version": 3
   },
   "pygments_lexer": "ipython3",
   "nbconvert_exporter": "python",
   "file_extension": ".py"
  },
  "kernelspec": {
   "name": "python3",
   "display_name": "Python 3.9.7 64-bit"
  },
  "interpreter": {
   "hash": "a3949659082f76c3dce9af69e66ef5cf512c1e4dc52678c6ac146f322361f8d5"
  }
 },
 "nbformat": 4,
 "nbformat_minor": 2
}