{
 "cells": [
  {
   "cell_type": "code",
   "execution_count": 101,
   "metadata": {},
   "outputs": [
    {
     "data": {
      "text/html": [
       "<div>\n",
       "<style scoped>\n",
       "    .dataframe tbody tr th:only-of-type {\n",
       "        vertical-align: middle;\n",
       "    }\n",
       "\n",
       "    .dataframe tbody tr th {\n",
       "        vertical-align: top;\n",
       "    }\n",
       "\n",
       "    .dataframe thead th {\n",
       "        text-align: right;\n",
       "    }\n",
       "</style>\n",
       "<table border=\"1\" class=\"dataframe\">\n",
       "  <thead>\n",
       "    <tr style=\"text-align: right;\">\n",
       "      <th></th>\n",
       "      <th>holiday destinations</th>\n",
       "      <th>holiday feedback score</th>\n",
       "      <th>average hotel star rating</th>\n",
       "      <th>most visited city</th>\n",
       "      <th>number of all inclusive hotels</th>\n",
       "    </tr>\n",
       "  </thead>\n",
       "  <tbody>\n",
       "    <tr>\n",
       "      <th>0</th>\n",
       "      <td>UAE</td>\n",
       "      <td>9</td>\n",
       "      <td>6</td>\n",
       "      <td>abu dhabi</td>\n",
       "      <td>16</td>\n",
       "    </tr>\n",
       "    <tr>\n",
       "      <th>1</th>\n",
       "      <td>US</td>\n",
       "      <td>6</td>\n",
       "      <td>4</td>\n",
       "      <td>new york</td>\n",
       "      <td>13</td>\n",
       "    </tr>\n",
       "    <tr>\n",
       "      <th>2</th>\n",
       "      <td>japan</td>\n",
       "      <td>7</td>\n",
       "      <td>5</td>\n",
       "      <td>tokyo</td>\n",
       "      <td>14</td>\n",
       "    </tr>\n",
       "    <tr>\n",
       "      <th>3</th>\n",
       "      <td>austria</td>\n",
       "      <td>5</td>\n",
       "      <td>3</td>\n",
       "      <td>vienna</td>\n",
       "      <td>12</td>\n",
       "    </tr>\n",
       "    <tr>\n",
       "      <th>4</th>\n",
       "      <td>france</td>\n",
       "      <td>8</td>\n",
       "      <td>4</td>\n",
       "      <td>paris</td>\n",
       "      <td>15</td>\n",
       "    </tr>\n",
       "    <tr>\n",
       "      <th>5</th>\n",
       "      <td>california</td>\n",
       "      <td>5</td>\n",
       "      <td>3</td>\n",
       "      <td>san francisco</td>\n",
       "      <td>11</td>\n",
       "    </tr>\n",
       "    <tr>\n",
       "      <th>6</th>\n",
       "      <td>spain</td>\n",
       "      <td>7</td>\n",
       "      <td>4</td>\n",
       "      <td>madrid</td>\n",
       "      <td>15</td>\n",
       "    </tr>\n",
       "    <tr>\n",
       "      <th>7</th>\n",
       "      <td>italy</td>\n",
       "      <td>7</td>\n",
       "      <td>4</td>\n",
       "      <td>rome</td>\n",
       "      <td>13</td>\n",
       "    </tr>\n",
       "    <tr>\n",
       "      <th>8</th>\n",
       "      <td>canada</td>\n",
       "      <td>4</td>\n",
       "      <td>2</td>\n",
       "      <td>torronto</td>\n",
       "      <td>6</td>\n",
       "    </tr>\n",
       "    <tr>\n",
       "      <th>9</th>\n",
       "      <td>egypt</td>\n",
       "      <td>4</td>\n",
       "      <td>2</td>\n",
       "      <td>cairo</td>\n",
       "      <td>8</td>\n",
       "    </tr>\n",
       "    <tr>\n",
       "      <th>10</th>\n",
       "      <td>china</td>\n",
       "      <td>8</td>\n",
       "      <td>5</td>\n",
       "      <td>shanghai</td>\n",
       "      <td>14</td>\n",
       "    </tr>\n",
       "    <tr>\n",
       "      <th>11</th>\n",
       "      <td>india</td>\n",
       "      <td>4</td>\n",
       "      <td>3</td>\n",
       "      <td>new delhi</td>\n",
       "      <td>7</td>\n",
       "    </tr>\n",
       "    <tr>\n",
       "      <th>12</th>\n",
       "      <td>netherland</td>\n",
       "      <td>6</td>\n",
       "      <td>4</td>\n",
       "      <td>amsterdam</td>\n",
       "      <td>10</td>\n",
       "    </tr>\n",
       "    <tr>\n",
       "      <th>13</th>\n",
       "      <td>mexico</td>\n",
       "      <td>3</td>\n",
       "      <td>1</td>\n",
       "      <td>mexico city</td>\n",
       "      <td>5</td>\n",
       "    </tr>\n",
       "  </tbody>\n",
       "</table>\n",
       "</div>"
      ],
      "text/plain": [
       "   holiday destinations   holiday feedback score  average hotel star rating  \\\n",
       "0                    UAE                       9                          6   \n",
       "1                     US                       6                          4   \n",
       "2                  japan                       7                          5   \n",
       "3               austria                        5                          3   \n",
       "4                france                        8                          4   \n",
       "5             california                       5                          3   \n",
       "6                 spain                        7                          4   \n",
       "7                 italy                        7                          4   \n",
       "8                canada                        4                          2   \n",
       "9                 egypt                        4                          2   \n",
       "10                china                        8                          5   \n",
       "11                india                        4                          3   \n",
       "12            netherland                       6                          4   \n",
       "13                mexico                       3                          1   \n",
       "\n",
       "   most visited city  number of all inclusive hotels  \n",
       "0          abu dhabi                              16  \n",
       "1           new york                              13  \n",
       "2              tokyo                              14  \n",
       "3            vienna                               12  \n",
       "4              paris                              15  \n",
       "5      san francisco                              11  \n",
       "6             madrid                              15  \n",
       "7               rome                              13  \n",
       "8           torronto                               6  \n",
       "9              cairo                               8  \n",
       "10          shanghai                              14  \n",
       "11         new delhi                               7  \n",
       "12         amsterdam                              10  \n",
       "13      mexico city                                5  "
      ]
     },
     "execution_count": 101,
     "metadata": {},
     "output_type": "execute_result"
    }
   ],
   "source": [
    "import pandas as pd \n",
    "data=pd.read_csv(\"holidaydestinations.csv\")\n",
    "data\n"
   ]
  },
  {
   "cell_type": "code",
   "execution_count": 102,
   "metadata": {},
   "outputs": [
    {
     "data": {
      "text/plain": [
       "(14, 5)"
      ]
     },
     "execution_count": 102,
     "metadata": {},
     "output_type": "execute_result"
    }
   ],
   "source": [
    "#1\n",
    "data.shape"
   ]
  },
  {
   "cell_type": "code",
   "execution_count": 103,
   "metadata": {},
   "outputs": [
    {
     "data": {
      "text/html": [
       "<div>\n",
       "<style scoped>\n",
       "    .dataframe tbody tr th:only-of-type {\n",
       "        vertical-align: middle;\n",
       "    }\n",
       "\n",
       "    .dataframe tbody tr th {\n",
       "        vertical-align: top;\n",
       "    }\n",
       "\n",
       "    .dataframe thead th {\n",
       "        text-align: right;\n",
       "    }\n",
       "</style>\n",
       "<table border=\"1\" class=\"dataframe\">\n",
       "  <thead>\n",
       "    <tr style=\"text-align: right;\">\n",
       "      <th></th>\n",
       "      <th>holiday destinations</th>\n",
       "      <th>holiday feedback score</th>\n",
       "      <th>average hotel star rating</th>\n",
       "      <th>most visited city</th>\n",
       "      <th>number of all inclusive hotels</th>\n",
       "    </tr>\n",
       "  </thead>\n",
       "  <tbody>\n",
       "    <tr>\n",
       "      <th>2</th>\n",
       "      <td>japan</td>\n",
       "      <td>7</td>\n",
       "      <td>5</td>\n",
       "      <td>tokyo</td>\n",
       "      <td>14</td>\n",
       "    </tr>\n",
       "    <tr>\n",
       "      <th>3</th>\n",
       "      <td>austria</td>\n",
       "      <td>5</td>\n",
       "      <td>3</td>\n",
       "      <td>vienna</td>\n",
       "      <td>12</td>\n",
       "    </tr>\n",
       "    <tr>\n",
       "      <th>4</th>\n",
       "      <td>france</td>\n",
       "      <td>8</td>\n",
       "      <td>4</td>\n",
       "      <td>paris</td>\n",
       "      <td>15</td>\n",
       "    </tr>\n",
       "    <tr>\n",
       "      <th>5</th>\n",
       "      <td>california</td>\n",
       "      <td>5</td>\n",
       "      <td>3</td>\n",
       "      <td>san francisco</td>\n",
       "      <td>11</td>\n",
       "    </tr>\n",
       "    <tr>\n",
       "      <th>6</th>\n",
       "      <td>spain</td>\n",
       "      <td>7</td>\n",
       "      <td>4</td>\n",
       "      <td>madrid</td>\n",
       "      <td>15</td>\n",
       "    </tr>\n",
       "    <tr>\n",
       "      <th>7</th>\n",
       "      <td>italy</td>\n",
       "      <td>7</td>\n",
       "      <td>4</td>\n",
       "      <td>rome</td>\n",
       "      <td>13</td>\n",
       "    </tr>\n",
       "  </tbody>\n",
       "</table>\n",
       "</div>"
      ],
      "text/plain": [
       "  holiday destinations   holiday feedback score  average hotel star rating  \\\n",
       "2                 japan                       7                          5   \n",
       "3              austria                        5                          3   \n",
       "4               france                        8                          4   \n",
       "5            california                       5                          3   \n",
       "6                spain                        7                          4   \n",
       "7                italy                        7                          4   \n",
       "\n",
       "  most visited city  number of all inclusive hotels  \n",
       "2             tokyo                              14  \n",
       "3           vienna                               12  \n",
       "4             paris                              15  \n",
       "5     san francisco                              11  \n",
       "6            madrid                              15  \n",
       "7              rome                              13  "
      ]
     },
     "execution_count": 103,
     "metadata": {},
     "output_type": "execute_result"
    }
   ],
   "source": [
    "#2\n",
    "data.iloc[2:8]"
   ]
  },
  {
   "cell_type": "code",
   "execution_count": 104,
   "metadata": {},
   "outputs": [
    {
     "data": {
      "text/plain": [
       "11.357142857142858"
      ]
     },
     "execution_count": 104,
     "metadata": {},
     "output_type": "execute_result"
    }
   ],
   "source": [
    "#3\n",
    "data['number of all inclusive hotels'].mean()"
   ]
  },
  {
   "cell_type": "code",
   "execution_count": 105,
   "metadata": {},
   "outputs": [
    {
     "data": {
      "text/html": [
       "<div>\n",
       "<style scoped>\n",
       "    .dataframe tbody tr th:only-of-type {\n",
       "        vertical-align: middle;\n",
       "    }\n",
       "\n",
       "    .dataframe tbody tr th {\n",
       "        vertical-align: top;\n",
       "    }\n",
       "\n",
       "    .dataframe thead th {\n",
       "        text-align: right;\n",
       "    }\n",
       "</style>\n",
       "<table border=\"1\" class=\"dataframe\">\n",
       "  <thead>\n",
       "    <tr style=\"text-align: right;\">\n",
       "      <th></th>\n",
       "      <th>holiday destinations</th>\n",
       "      <th>holiday feedback score</th>\n",
       "      <th>average hotel star rating</th>\n",
       "      <th>most visited city</th>\n",
       "      <th>number of all inclusive hotels</th>\n",
       "    </tr>\n",
       "  </thead>\n",
       "  <tbody>\n",
       "    <tr>\n",
       "      <th>13</th>\n",
       "      <td>mexico</td>\n",
       "      <td>3</td>\n",
       "      <td>1</td>\n",
       "      <td>mexico city</td>\n",
       "      <td>5</td>\n",
       "    </tr>\n",
       "  </tbody>\n",
       "</table>\n",
       "</div>"
      ],
      "text/plain": [
       "   holiday destinations   holiday feedback score  average hotel star rating  \\\n",
       "13                mexico                       3                          1   \n",
       "\n",
       "   most visited city  number of all inclusive hotels  \n",
       "13      mexico city                                5  "
      ]
     },
     "execution_count": 105,
     "metadata": {},
     "output_type": "execute_result"
    }
   ],
   "source": [
    "#4\n",
    "df=data['holiday feedback score']==data['holiday feedback score'].min()\n",
    "data[df]\n"
   ]
  },
  {
   "cell_type": "code",
   "execution_count": 106,
   "metadata": {},
   "outputs": [
    {
     "data": {
      "text/html": [
       "<div>\n",
       "<style scoped>\n",
       "    .dataframe tbody tr th:only-of-type {\n",
       "        vertical-align: middle;\n",
       "    }\n",
       "\n",
       "    .dataframe tbody tr th {\n",
       "        vertical-align: top;\n",
       "    }\n",
       "\n",
       "    .dataframe thead th {\n",
       "        text-align: right;\n",
       "    }\n",
       "</style>\n",
       "<table border=\"1\" class=\"dataframe\">\n",
       "  <thead>\n",
       "    <tr style=\"text-align: right;\">\n",
       "      <th></th>\n",
       "      <th>holiday destinations</th>\n",
       "      <th>holiday feedback score</th>\n",
       "      <th>average hotel star rating</th>\n",
       "      <th>most visited city</th>\n",
       "      <th>number of all inclusive hotels</th>\n",
       "    </tr>\n",
       "  </thead>\n",
       "  <tbody>\n",
       "    <tr>\n",
       "      <th>0</th>\n",
       "      <td>UAE</td>\n",
       "      <td>9</td>\n",
       "      <td>6</td>\n",
       "      <td>abu dhabi</td>\n",
       "      <td>16</td>\n",
       "    </tr>\n",
       "  </tbody>\n",
       "</table>\n",
       "</div>"
      ],
      "text/plain": [
       "  holiday destinations   holiday feedback score  average hotel star rating  \\\n",
       "0                   UAE                       9                          6   \n",
       "\n",
       "  most visited city  number of all inclusive hotels  \n",
       "0         abu dhabi                              16  "
      ]
     },
     "execution_count": 106,
     "metadata": {},
     "output_type": "execute_result"
    }
   ],
   "source": [
    "#5\n",
    "df=data['holiday feedback score']==data['holiday feedback score'].max()\n",
    "data[df]"
   ]
  },
  {
   "cell_type": "code",
   "execution_count": 112,
   "metadata": {},
   "outputs": [
    {
     "data": {
      "text/html": [
       "<div>\n",
       "<style scoped>\n",
       "    .dataframe tbody tr th:only-of-type {\n",
       "        vertical-align: middle;\n",
       "    }\n",
       "\n",
       "    .dataframe tbody tr th {\n",
       "        vertical-align: top;\n",
       "    }\n",
       "\n",
       "    .dataframe thead th {\n",
       "        text-align: right;\n",
       "    }\n",
       "</style>\n",
       "<table border=\"1\" class=\"dataframe\">\n",
       "  <thead>\n",
       "    <tr style=\"text-align: right;\">\n",
       "      <th></th>\n",
       "      <th>holiday destinations</th>\n",
       "      <th>holiday feedback score</th>\n",
       "      <th>average hotel star rating</th>\n",
       "      <th>most visited city</th>\n",
       "      <th>number of all inclusive hotels</th>\n",
       "    </tr>\n",
       "  </thead>\n",
       "  <tbody>\n",
       "    <tr>\n",
       "      <th>0</th>\n",
       "      <td>UAE</td>\n",
       "      <td>9</td>\n",
       "      <td>6</td>\n",
       "      <td>abu dhabi</td>\n",
       "      <td>16</td>\n",
       "    </tr>\n",
       "    <tr>\n",
       "      <th>1</th>\n",
       "      <td>US</td>\n",
       "      <td>6</td>\n",
       "      <td>4</td>\n",
       "      <td>new york</td>\n",
       "      <td>13</td>\n",
       "    </tr>\n",
       "    <tr>\n",
       "      <th>2</th>\n",
       "      <td>japan</td>\n",
       "      <td>7</td>\n",
       "      <td>5</td>\n",
       "      <td>tokyo</td>\n",
       "      <td>14</td>\n",
       "    </tr>\n",
       "    <tr>\n",
       "      <th>3</th>\n",
       "      <td>austria</td>\n",
       "      <td>5</td>\n",
       "      <td>3</td>\n",
       "      <td>vienna</td>\n",
       "      <td>12</td>\n",
       "    </tr>\n",
       "    <tr>\n",
       "      <th>4</th>\n",
       "      <td>france</td>\n",
       "      <td>8</td>\n",
       "      <td>4</td>\n",
       "      <td>paris</td>\n",
       "      <td>15</td>\n",
       "    </tr>\n",
       "    <tr>\n",
       "      <th>5</th>\n",
       "      <td>california</td>\n",
       "      <td>5</td>\n",
       "      <td>3</td>\n",
       "      <td>san francisco</td>\n",
       "      <td>11</td>\n",
       "    </tr>\n",
       "    <tr>\n",
       "      <th>6</th>\n",
       "      <td>spain</td>\n",
       "      <td>7</td>\n",
       "      <td>4</td>\n",
       "      <td>madrid</td>\n",
       "      <td>15</td>\n",
       "    </tr>\n",
       "    <tr>\n",
       "      <th>7</th>\n",
       "      <td>italy</td>\n",
       "      <td>7</td>\n",
       "      <td>4</td>\n",
       "      <td>rome</td>\n",
       "      <td>13</td>\n",
       "    </tr>\n",
       "    <tr>\n",
       "      <th>10</th>\n",
       "      <td>china</td>\n",
       "      <td>8</td>\n",
       "      <td>5</td>\n",
       "      <td>shanghai</td>\n",
       "      <td>14</td>\n",
       "    </tr>\n",
       "    <tr>\n",
       "      <th>12</th>\n",
       "      <td>netherland</td>\n",
       "      <td>6</td>\n",
       "      <td>4</td>\n",
       "      <td>amsterdam</td>\n",
       "      <td>10</td>\n",
       "    </tr>\n",
       "  </tbody>\n",
       "</table>\n",
       "</div>"
      ],
      "text/plain": [
       "   holiday destinations   holiday feedback score  average hotel star rating  \\\n",
       "0                    UAE                       9                          6   \n",
       "1                     US                       6                          4   \n",
       "2                  japan                       7                          5   \n",
       "3               austria                        5                          3   \n",
       "4                france                        8                          4   \n",
       "5             california                       5                          3   \n",
       "6                 spain                        7                          4   \n",
       "7                 italy                        7                          4   \n",
       "10                china                        8                          5   \n",
       "12            netherland                       6                          4   \n",
       "\n",
       "   most visited city  number of all inclusive hotels  \n",
       "0          abu dhabi                              16  \n",
       "1           new york                              13  \n",
       "2              tokyo                              14  \n",
       "3            vienna                               12  \n",
       "4              paris                              15  \n",
       "5      san francisco                              11  \n",
       "6             madrid                              15  \n",
       "7               rome                              13  \n",
       "10          shanghai                              14  \n",
       "12         amsterdam                              10  "
      ]
     },
     "execution_count": 112,
     "metadata": {},
     "output_type": "execute_result"
    }
   ],
   "source": [
    "#6\n",
    "df=data['number of all inclusive hotels']>9\n",
    "filter=data[df]\n",
    "filter"
   ]
  },
  {
   "cell_type": "code",
   "execution_count": 114,
   "metadata": {},
   "outputs": [
    {
     "data": {
      "text/html": [
       "<div>\n",
       "<style scoped>\n",
       "    .dataframe tbody tr th:only-of-type {\n",
       "        vertical-align: middle;\n",
       "    }\n",
       "\n",
       "    .dataframe tbody tr th {\n",
       "        vertical-align: top;\n",
       "    }\n",
       "\n",
       "    .dataframe thead th {\n",
       "        text-align: right;\n",
       "    }\n",
       "</style>\n",
       "<table border=\"1\" class=\"dataframe\">\n",
       "  <thead>\n",
       "    <tr style=\"text-align: right;\">\n",
       "      <th></th>\n",
       "      <th>holiday destinations</th>\n",
       "      <th>holiday feedback score</th>\n",
       "      <th>average hotel star rating</th>\n",
       "      <th>most visited city</th>\n",
       "      <th>number of all inclusive hotels</th>\n",
       "    </tr>\n",
       "  </thead>\n",
       "  <tbody>\n",
       "    <tr>\n",
       "      <th>0</th>\n",
       "      <td>UAE</td>\n",
       "      <td>9</td>\n",
       "      <td>6</td>\n",
       "      <td>abu dhabi</td>\n",
       "      <td>16</td>\n",
       "    </tr>\n",
       "  </tbody>\n",
       "</table>\n",
       "</div>"
      ],
      "text/plain": [
       "  holiday destinations   holiday feedback score  average hotel star rating  \\\n",
       "0                   UAE                       9                          6   \n",
       "\n",
       "  most visited city  number of all inclusive hotels  \n",
       "0         abu dhabi                              16  "
      ]
     },
     "execution_count": 114,
     "metadata": {},
     "output_type": "execute_result"
    }
   ],
   "source": [
    "#7\n",
    "df=data['holiday feedback score']>8\n",
    "data[df]"
   ]
  },
  {
   "cell_type": "code",
   "execution_count": 115,
   "metadata": {},
   "outputs": [
    {
     "data": {
      "text/html": [
       "<div>\n",
       "<style scoped>\n",
       "    .dataframe tbody tr th:only-of-type {\n",
       "        vertical-align: middle;\n",
       "    }\n",
       "\n",
       "    .dataframe tbody tr th {\n",
       "        vertical-align: top;\n",
       "    }\n",
       "\n",
       "    .dataframe thead th {\n",
       "        text-align: right;\n",
       "    }\n",
       "</style>\n",
       "<table border=\"1\" class=\"dataframe\">\n",
       "  <thead>\n",
       "    <tr style=\"text-align: right;\">\n",
       "      <th></th>\n",
       "      <th>holiday destinations</th>\n",
       "      <th>holiday feedback score</th>\n",
       "      <th>average hotel star rating</th>\n",
       "      <th>most visited city</th>\n",
       "      <th>number of all inclusive hotels</th>\n",
       "    </tr>\n",
       "  </thead>\n",
       "  <tbody>\n",
       "  </tbody>\n",
       "</table>\n",
       "</div>"
      ],
      "text/plain": [
       "Empty DataFrame\n",
       "Columns: [holiday destinations , holiday feedback score, average hotel star rating, most visited city, number of all inclusive hotels]\n",
       "Index: []"
      ]
     },
     "execution_count": 115,
     "metadata": {},
     "output_type": "execute_result"
    }
   ],
   "source": [
    "#8\n",
    "df=data['holiday feedback score']<=2\n",
    "data[df]"
   ]
  },
  {
   "cell_type": "code",
   "execution_count": 116,
   "metadata": {},
   "outputs": [
    {
     "data": {
      "text/plain": [
       "<AxesSubplot:xlabel='holiday feedback score', ylabel='number of all inclusive hotels'>"
      ]
     },
     "execution_count": 116,
     "metadata": {},
     "output_type": "execute_result"
    },
    {
     "data": {
      "image/png": "[encoded data removed]",
      "text/plain": [
       "<Figure size 432x288 with 1 Axes>"
      ]
     },
     "metadata": {
      "needs_background": "light"
     },
     "output_type": "display_data"
    }
   ],
   "source": [
    "data.plot.scatter(x='holiday feedback score',y='number of all inclusive hotels')"
   ]
  },
  {
   "cell_type": "code",
   "execution_count": 117,
   "metadata": {},
   "outputs": [
    {
     "data": {
      "text/plain": [
       "<AxesSubplot:xlabel='holiday feedback score', ylabel='average hotel star rating'>"
      ]
     },
     "execution_count": 117,
     "metadata": {},
     "output_type": "execute_result"
    },
    {
     "data": {
      "image/png": "[encoded data removed]",
      "text/plain": [
       "<Figure size 432x288 with 1 Axes>"
      ]
     },
     "metadata": {
      "needs_background": "light"
     },
     "output_type": "display_data"
    }
   ],
   "source": [
    "data.plot.scatter(x='holiday feedback score',y='average hotel star rating')"
   ]
  },
  {
   "cell_type": "code",
   "execution_count": null,
   "metadata": {},
   "outputs": [],
   "source": []
  }
 ],
 "metadata": {
  "interpreter": {
   "hash": "a3949659082f76c3dce9af69e66ef5cf512c1e4dc52678c6ac146f322361f8d5"
  },
  "kernelspec": {
   "display_name": "Python 3.9.7 64-bit",
   "name": "python3"
  },
  "language_info": {
   "codemirror_mode": {
    "name": "ipython",
    "version": 3
   },
   "file_extension": ".py",
   "mimetype": "text/x-python",
   "name": "python",
   "nbconvert_exporter": "python",
   "pygments_lexer": "ipython3",
   "version": "3.9.7"
  },
  "orig_nbformat": 4
 },
 "nbformat": 4,
 "nbformat_minor": 2
}
