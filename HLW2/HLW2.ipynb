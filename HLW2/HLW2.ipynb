{
 "cells": [
  {
   "cell_type": "code",
   "execution_count": 44,
   "source": [
    "#task 1\r\n",
    "import numpy as np\r\n",
    "array=np.arange(0,9)\r\n",
    "print(array)"
   ],
   "outputs": [
    {
     "output_type": "stream",
     "name": "stdout",
     "text": [
      "[0 1 2 3 4 5 6 7 8]\n"
     ]
    }
   ],
   "metadata": {}
  },
  {
   "cell_type": "code",
   "execution_count": 53,
   "source": [
    "#task 2 \r\n",
    "ones=np.ones(9).reshape(3,3)\r\n",
    "print(ones)\r\n",
    "\r\n",
    " "
   ],
   "outputs": [
    {
     "output_type": "stream",
     "name": "stdout",
     "text": [
      "[[1. 1. 1.]\n",
      " [1. 1. 1.]\n",
      " [1. 1. 1.]]\n"
     ]
    }
   ],
   "metadata": {}
  },
  {
   "cell_type": "code",
   "execution_count": 136,
   "source": [
    "#task 3\r\n",
    "array=np.arange(1,10)\r\n",
    "array[0:11:2]"
   ],
   "outputs": [
    {
     "output_type": "execute_result",
     "data": {
      "text/plain": [
       "array([1, 3, 5, 7, 9])"
      ]
     },
     "metadata": {},
     "execution_count": 136
    }
   ],
   "metadata": {}
  },
  {
   "cell_type": "code",
   "execution_count": 127,
   "source": [
    "#task 4\r\n",
    "array=np.arange(1,10)\r\n",
    "array[0:11:2]=-1\r\n",
    "print(array)"
   ],
   "outputs": [
    {
     "output_type": "stream",
     "name": "stdout",
     "text": [
      "[-1  2 -1  4 -1  6 -1  8 -1]\n"
     ]
    }
   ],
   "metadata": {}
  },
  {
   "cell_type": "code",
   "execution_count": 94,
   "source": [
    "#task 5\r\n",
    "array=np.arange(1,11).reshape(2,1)\r\n",
    "print(array)\r\n",
    "\r\n"
   ],
   "outputs": [
    {
     "output_type": "execute_result",
     "data": {
      "text/plain": [
       "array([[ 1,  2,  3,  4,  5],\n",
       "       [ 6,  7,  8,  9, 10]])"
      ]
     },
     "metadata": {},
     "execution_count": 94
    }
   ],
   "metadata": {}
  },
  {
   "cell_type": "code",
   "execution_count": 134,
   "source": [
    "#task 6\r\n",
    "a=np.arange(1,10).reshape(3,3)\r\n",
    "b=np.arange(10,19).reshape(3,3)\r\n",
    "c=np.stack((a,b),axis=-1)\r\n",
    "d=np.dot(a,b)\r\n",
    "e=np.sum(d,axis=-1)\r\n",
    "print(c)\r\n",
    "print(d)\r\n",
    "print(e)"
   ],
   "outputs": [
    {
     "output_type": "stream",
     "name": "stdout",
     "text": [
      "[[[ 1 10]\n",
      "  [ 2 11]\n",
      "  [ 3 12]]\n",
      "\n",
      " [[ 4 13]\n",
      "  [ 5 14]\n",
      "  [ 6 15]]\n",
      "\n",
      " [[ 7 16]\n",
      "  [ 8 17]\n",
      "  [ 9 18]]]\n",
      "[[ 84  90  96]\n",
      " [201 216 231]\n",
      " [318 342 366]]\n",
      "[ 270  648 1026]\n"
     ]
    }
   ],
   "metadata": {}
  },
  {
   "cell_type": "code",
   "execution_count": null,
   "source": [],
   "outputs": [],
   "metadata": {}
  }
 ],
 "metadata": {
  "orig_nbformat": 4,
  "language_info": {
   "name": "python",
   "version": "3.9.7",
   "mimetype": "text/x-python",
   "codemirror_mode": {
    "name": "ipython",
    "version": 3
   },
   "pygments_lexer": "ipython3",
   "nbconvert_exporter": "python",
   "file_extension": ".py"
  },
  "kernelspec": {
   "name": "python3",
   "display_name": "Python 3.9.7 64-bit"
  },
  "interpreter": {
   "hash": "a3949659082f76c3dce9af69e66ef5cf512c1e4dc52678c6ac146f322361f8d5"
  }
 },
 "nbformat": 4,
 "nbformat_minor": 2
}